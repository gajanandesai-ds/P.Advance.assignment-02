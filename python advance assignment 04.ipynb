{
 "cells": [
  {
   "cell_type": "raw",
   "id": "42f3bde1",
   "metadata": {},
   "source": [
    "Q1. Which two operator overloading methods can you use in your classes to support iteration?"
   ]
  },
  {
   "cell_type": "raw",
   "id": "dd230239",
   "metadata": {},
   "source": [
    "ans: init,str are two operator overloding methods can which can be used to support iteration."
   ]
  },
  {
   "cell_type": "code",
   "execution_count": null,
   "id": "d87df1fe",
   "metadata": {},
   "outputs": [],
   "source": []
  },
  {
   "cell_type": "code",
   "execution_count": null,
   "id": "9cdcd5bd",
   "metadata": {},
   "outputs": [],
   "source": []
  },
  {
   "cell_type": "raw",
   "id": "6b6f2e0d",
   "metadata": {},
   "source": [
    "Q2. In what contexts do the two operator overloading methods manage printing?"
   ]
  },
  {
   "cell_type": "raw",
   "id": "4e185c8b",
   "metadata": {},
   "source": [
    "ans:they can manage priting or outputting values with return statement.\n",
    "\n",
    "In cases where the str() method is not defined, python uses the repr() method to print the object as well as to represent the object when str() is called on it."
   ]
  },
  {
   "cell_type": "code",
   "execution_count": null,
   "id": "f50d4c92",
   "metadata": {},
   "outputs": [],
   "source": []
  },
  {
   "cell_type": "code",
   "execution_count": null,
   "id": "2462da7f",
   "metadata": {},
   "outputs": [],
   "source": []
  },
  {
   "cell_type": "raw",
   "id": "2f8a2c70",
   "metadata": {},
   "source": [
    "Q3. In a class, how do you intercept slice operations?"
   ]
  },
  {
   "cell_type": "raw",
   "id": "fb33b303",
   "metadata": {},
   "source": [
    "ans: below exmple"
   ]
  },
  {
   "cell_type": "code",
   "execution_count": 2,
   "id": "9c494684",
   "metadata": {},
   "outputs": [
    {
     "name": "stdout",
     "output_type": "stream",
     "text": [
      "nyra g\n"
     ]
    }
   ],
   "source": [
    "sliced = 'nyra gajanan desai'.__getitem__(slice(0,6,1))\n",
    "print(sliced)"
   ]
  },
  {
   "cell_type": "code",
   "execution_count": 3,
   "id": "6130e71b",
   "metadata": {},
   "outputs": [
    {
     "name": "stdout",
     "output_type": "stream",
     "text": [
      "1\n",
      "(1, 2)\n",
      "(1, 2, 3)\n"
     ]
    }
   ],
   "source": [
    "class demo:\n",
    "    def __getitem__(self,key):\n",
    "        print(key)\n",
    "        \n",
    "a= demo()\n",
    "a[1]\n",
    "a[1,2]\n",
    "a[1,2,3]"
   ]
  },
  {
   "cell_type": "code",
   "execution_count": null,
   "id": "7e3942c6",
   "metadata": {},
   "outputs": [],
   "source": []
  },
  {
   "cell_type": "code",
   "execution_count": null,
   "id": "cc491306",
   "metadata": {},
   "outputs": [],
   "source": []
  },
  {
   "cell_type": "raw",
   "id": "78b798d7",
   "metadata": {},
   "source": [
    "Q4. In a class, how do you capture in-place addition?"
   ]
  },
  {
   "cell_type": "raw",
   "id": "c1cc9579",
   "metadata": {},
   "source": [
    "ans: Python provides the operator x + = y to add two objects in- place by calculating the sum x+y and assigning the result to the first operands variable name x. we can set up the in - place addition behavior for our own class by overriding the magic \"duner\" method iadd (self,other) in our class definition."
   ]
  },
  {
   "cell_type": "code",
   "execution_count": null,
   "id": "31a30192",
   "metadata": {},
   "outputs": [],
   "source": []
  },
  {
   "cell_type": "code",
   "execution_count": null,
   "id": "02d3a664",
   "metadata": {},
   "outputs": [],
   "source": []
  },
  {
   "cell_type": "raw",
   "id": "22b5feac",
   "metadata": {},
   "source": [
    "Q5. When is it appropriate to use operator overloading?"
   ]
  },
  {
   "cell_type": "raw",
   "id": "1031600c",
   "metadata": {},
   "source": [
    "ans: The operator overloading in python means provide  extended meaning beyond their predefined operational meaning. such as, we use the \"+\" operator for adding two integers as well as joining two string or merging two lists.we can achieve this as the \"+\" operator is overloaded by the \"int\" class and \"str\"class. heance when we have to extented meaning beyound their predefined operational meaning we can use operator overloading."
   ]
  },
  {
   "cell_type": "code",
   "execution_count": null,
   "id": "56c96f15",
   "metadata": {},
   "outputs": [],
   "source": []
  },
  {
   "cell_type": "code",
   "execution_count": null,
   "id": "905fca73",
   "metadata": {},
   "outputs": [],
   "source": []
  }
 ],
 "metadata": {
  "kernelspec": {
   "display_name": "Python 3",
   "language": "python",
   "name": "python3"
  },
  "language_info": {
   "codemirror_mode": {
    "name": "ipython",
    "version": 3
   },
   "file_extension": ".py",
   "mimetype": "text/x-python",
   "name": "python",
   "nbconvert_exporter": "python",
   "pygments_lexer": "ipython3",
   "version": "3.8.8"
  }
 },
 "nbformat": 4,
 "nbformat_minor": 5
}
